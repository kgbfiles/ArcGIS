{
 "cells": [
  {
   "cell_type": "markdown",
   "source": [
    "# GIS Content Manager: ArcGIS Python API Automation\n",
    "Automate login, content search, download, buffer, spatial join, and publishing to AGOL/Enterprise."
   ]
  },
  {
   "cell_type": "code",
   "source": [
    "# 1️⃣ Authentication\n",
    "import json\n",
    "from arcgis.gis import GIS\n",
    "with open('config/credentials.json') as f:\n",
    "    creds = json.load(f)\n",
    "gis = GIS(creds['portal_url'], creds['username'], creds['password'])\n",
    "print(f\"Authenticated as: {gis.users.me.username}\")"
   ]
  },
  {
   "cell_type": "code",
   "source": [
    "# 2️⃣ Search and List Content\n",
    "import pandas as pd\n",
    "items = gis.content.search(query=\"parks AND type:Feature Layer\", item_type=\"Feature Layer\", max_items=10)\n",
    "data = [\n",
    "    {\n",
    "        \"title\": item.title,\n",
    "        \"owner\": item.owner,\n",
    "        \"created\": item.created,\n",
    "        \"type\": item.type,\n",
    "        \"id\": item.id\n",
    "    }\n",
    "    for item in items\n",
    "]\n",
    "df = pd.DataFrame(data)\n",
    "df.to_csv(\"results/portal_content_report.csv\", index=False)\n",
    "df"
   ]
  },
  {
   "cell_type": "code",
   "source": [
    "# 3️⃣ Download Feature Layer Data\n",
    "flayer = items[0].layers[0]\n",
    "sdf = flayer.query().sdf\n",
    "sdf.to_file(\"data/parks.geojson\", driver=\"GeoJSON\")\n",
    "sdf.head()"
   ]
  },
  {
   "cell_type": "code",
   "source": [
    "# 4️⃣ Buffer and Spatial Join (example)\n",
    "import geopandas as gpd\n",
    "# Example: buffer parks by 1000m\n",
    "parks_buffer = sdf.copy()\n",
    "parks_buffer['geometry'] = parks_buffer.geometry.buffer(1000)\n",
    "parks_buffer.plot()"
   ]
  },
  {
   "cell_type": "code",
   "source": [
    "# Spatial join demo (with another layer: e.g., crime)\n",
    "# crime_sdf = gpd.read_file(\"data/crime.geojson\")\n",
    "# joined = gpd.sjoin(crime_sdf, parks_buffer, predicate='within')\n",
    "# joined.to_file(\"results/analysis_results.geojson\", driver=\"GeoJSON\")\n",
    "# joined.head()"
   ]
  },
  {
   "cell_type": "code",
   "source": [
    "# 5️⃣ Publish and Share Results\n",
    "item_properties = {\n",
    "    'title': 'Buffer Analysis Results',\n",
    "    'type': 'GeoJson',\n",
    "    'tags': 'analysis, automation',\n",
    "    'description': 'Results of buffer and spatial join analysis.'\n",
    "}\n",
    "result_item = gis.content.add(item_properties, data=\"results/analysis_results.geojson\")\n",
    "result_item.share(everyone=True)\n",
    "result_item"
   ]
  }
 ],
 "metadata": {
  "kernelspec": {
   "display_name": "Python 3",
   "language": "python",
   "name": "python3"
  },
  "language_info": {
   "name": "python"
  }
 },
 "nbformat": 4,
 "nbformat_minor": 2
}